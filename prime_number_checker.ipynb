{
 "cells": [
  {
   "cell_type": "code",
   "execution_count": 58,
   "id": "19cdde83",
   "metadata": {},
   "outputs": [
    {
     "name": "stdout",
     "output_type": "stream",
     "text": [
      "enter the number:71\n",
      "71 is a prime number\n"
     ]
    }
   ],
   "source": [
    "x=int(input(\"enter the number:\"))\n",
    "\n",
    "is_prime=True\n",
    "check_num=x\n",
    "for i in range(2,check_num):\n",
    "    if x % i == 0:\n",
    "        is_prime=False\n",
    "if is_prime:\n",
    "        print(f\"{x} is a prime number\")\n",
    "else:\n",
    "    print(f\"{x} is not a prime number\")"
   ]
  },
  {
   "cell_type": "code",
   "execution_count": 57,
   "id": "89952a98",
   "metadata": {},
   "outputs": [
    {
     "name": "stdout",
     "output_type": "stream",
     "text": [
      "Enter a number:29\n",
      "29 is a prime number\n"
     ]
    }
   ],
   "source": [
    "n=int(input(\"Enter a number:\"))\n",
    "count = 0\n",
    "for i in  range(1,n+1):\n",
    "    if n%i==0:\n",
    "        count+=1\n",
    "if count==2:\n",
    "    print(f\"{n} is a prime number\")\n",
    "else:\n",
    "    print(f\"{n} is not a prime number\")\n"
   ]
  },
  {
   "cell_type": "code",
   "execution_count": null,
   "id": "9f2e667e",
   "metadata": {},
   "outputs": [],
   "source": []
  }
 ],
 "metadata": {
  "kernelspec": {
   "display_name": "Python 3 (ipykernel)",
   "language": "python",
   "name": "python3"
  },
  "language_info": {
   "codemirror_mode": {
    "name": "ipython",
    "version": 3
   },
   "file_extension": ".py",
   "mimetype": "text/x-python",
   "name": "python",
   "nbconvert_exporter": "python",
   "pygments_lexer": "ipython3",
   "version": "3.11.5"
  }
 },
 "nbformat": 4,
 "nbformat_minor": 5
}
