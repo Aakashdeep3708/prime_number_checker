{
 "cells": [
  {
   "cell_type": "code",
   "execution_count": null,
   "id": "19cdde83",
   "metadata": {},
   "outputs": [],
   "source": [
    "x=int(input(\"enter the number :\"))\n",
    "\n",
    "is_prime=True\n",
    "check_num=x\n",
    "for i in range(2,check_num):\n",
    "    if x % i == 0:\n",
    "        is_prime=False\n",
    "if is_prime:\n",
    "        print(f\"{x} is a prime number\")\n",
    "else:\n",
    "    print(f\"{x} is not a prime number\")"
   ]
  },
  {
   "cell_type": "code",
   "execution_count": null,
   "id": "89952a98",
   "metadata": {},
   "outputs": [],
   "source": []
  }
 ],
 "metadata": {
  "kernelspec": {
   "display_name": "Python 3 (ipykernel)",
   "language": "python",
   "name": "python3"
  },
  "language_info": {
   "codemirror_mode": {
    "name": "ipython",
    "version": 3
   },
   "file_extension": ".py",
   "mimetype": "text/x-python",
   "name": "python",
   "nbconvert_exporter": "python",
   "pygments_lexer": "ipython3",
   "version": "3.11.5"
  }
 },
 "nbformat": 4,
 "nbformat_minor": 5
}
